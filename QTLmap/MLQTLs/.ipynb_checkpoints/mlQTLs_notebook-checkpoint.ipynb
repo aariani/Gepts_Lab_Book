{
 "cells": [
  {
   "cell_type": "code",
   "execution_count": 1,
   "metadata": {
    "collapsed": true
   },
   "outputs": [],
   "source": [
    "%matplotlib inline\n",
    "import numpy as np\n",
    "import pandas as pd\n",
    "import seaborn as sns\n",
    "import matplotlib.pyplot as plt"
   ]
  },
  {
   "cell_type": "markdown",
   "metadata": {},
   "source": [
    "# mlQTLs: algorithm for QTLs mapping (and feature selection??)\n",
    "\n",
    "I want to develop an ensemble L1norm approach for QTLs mapping, but it can be used also for feature selection on regression problems (maybe).\n",
    "\n",
    "I took the idea (especially for classification tasks) from [this\n",
    "manuscript](https://www.ncbi.nlm.nih.gov/pmc/articles/PMC5260053/)\n",
    "\n",
    "### QTL mapping (main functionality)\n",
    "You should use Rqtl for simulating crosses"
   ]
  },
  {
   "cell_type": "code",
   "execution_count": 71,
   "metadata": {
    "collapsed": true
   },
   "outputs": [],
   "source": [
    "#import rpy2\n",
    "%load_ext rpy2.ipython"
   ]
  },
  {
   "cell_type": "markdown",
   "metadata": {},
   "source": [
    "Create cell with R code **BC dominant QTLs**"
   ]
  },
  {
   "cell_type": "markdown",
   "metadata": {},
   "source": [
    "## Develop pipeline\n",
    "The next cell hs the algorithm\n",
    "\n",
    "Use of LassoCV"
   ]
  },
  {
   "cell_type": "code",
   "execution_count": 2,
   "metadata": {
    "collapsed": true
   },
   "outputs": [],
   "source": [
    "# main function\n",
    "from sklearn.model_selection import RandomizedSearchCV\n",
    "from sklearn.utils import resample\n",
    "from sklearn.datasets import make_regression\n",
    "from sklearn.svm import LinearSVR\n",
    "from sklearn.linear_model import LassoCV\n",
    "from scipy import stats\n",
    "\n",
    "def optimize_weights(X, y, cv):\n",
    "    alphas = 1/(X.shape[0]*np.logspace(-5, 4, 10))\n",
    "    model = LassoCV(alphas=alphas, cv = cv, random_state=42, \n",
    "                    precompute=True, positive=True, n_jobs=-1)\n",
    "    model.fit(X,y)\n",
    "    return model.coef_\n",
    "    \n",
    "def mlQTLs_analysis(X, y, n_estimators=10,\n",
    "                    max_samples = 0.8, cv = 5, random_state=42):\n",
    "    '''main function that will call the other functions'''\n",
    "    all_w = []\n",
    "    for i in range(n_estimators):\n",
    "        # loop over the number of estimators\n",
    "        X_res, y_res = resample(X, y,\n",
    "                                n_samples=int(np.ceil(X.shape[0]*max_samples)),\n",
    "                                replace=True, random_state=i*random_state)\n",
    "        w = optimize_weights(X_res, y_res, cv=cv)\n",
    "        all_w.append(w)\n",
    "    # now you will need to:\n",
    "        #1) Calculate the stability score for each feature\n",
    "        #2) Sum the scores\n",
    "        #3) for optimization purpose I will return the full  coeff_array\n",
    "    all_w = np.array(all_w)\n",
    "    w= np.sum(all_w, axis=0)\n",
    "    bin_matrix = np.where(all_w>0, 1, 0)\n",
    "    s_scores = np.sum(bin_matrix, axis=0)\n",
    "    bagl1_weigths =(w*s_scores)/n_estimators\n",
    "    return bagl1_weigths"
   ]
  },
  {
   "cell_type": "markdown",
   "metadata": {},
   "source": [
    "# Single dominant QTL\n",
    "\n",
    "**Simulation**"
   ]
  },
  {
   "cell_type": "code",
   "execution_count": 100,
   "metadata": {},
   "outputs": [
    {
     "data": {
      "text/plain": [
       "    Backcross\n",
       "\n",
       "    No. individuals:    250 \n",
       "\n",
       "    No. phenotypes:     1 \n",
       "    Percent phenotyped: 100 \n",
       "\n",
       "    No. chromosomes:    5 \n",
       "        Autosomes:      1 2 3 4 5 \n",
       "\n",
       "    Total markers:      585 \n",
       "    No. markers:        130 95 100 120 140 \n",
       "    Percent genotyped:  100 \n",
       "    Genotypes (%):      AA:50.6  AB:49.4 \n"
      ]
     },
     "metadata": {},
     "output_type": "display_data"
    },
    {
     "data": {
      "image/png": "[encoded data removed]"
     },
     "metadata": {},
     "output_type": "display_data"
    },
    {
     "data": {
      "image/png": "[encoded data removed]"
     },
     "metadata": {},
     "output_type": "display_data"
    }
   ],
   "source": [
    "%%R\n",
    "library(qtl)\n",
    "L=c(130, 95, 100, 120, 140)\n",
    "set.seed(121)\n",
    "mapD=sim.map(L, L, eq.spacing=F, include.x=F)\n",
    "plot(mapD)\n",
    "bc_model = rbind(c(3, 25, 1))\n",
    "BC_cross = sim.cross(mapD, n.ind=250, type='bc', model = bc_model)\n",
    "p1 = subset(BC_cross$pheno[,1], BC_cross$qtlgeno[,1]==1)\n",
    "p2 = subset(BC_cross$pheno[,1], BC_cross$qtlgeno[,1]==2)\n",
    "boxplot(p1, p2, names=c('Hom', 'Het'), main='Phenotype distribution by QTL')\n",
    "print(summary(BC_cross))\n",
    "write.cross(BC_cross, format='csv', filestem='BC_dominant_cross')"
   ]
  },
  {
   "cell_type": "markdown",
   "metadata": {},
   "source": [
    "**Evaluation on RQTL**"
   ]
  },
  {
   "cell_type": "code",
   "execution_count": 101,
   "metadata": {},
   "outputs": [
    {
     "data": {
      "text/plain": [
       " --Read the following data:\n",
       "\t 250  individuals\n",
       "\t 585  markers\n",
       "\t 1  phenotypes\n",
       " --Cross type: bc \n",
       "    Backcross\n",
       "\n",
       "    No. individuals:    250 \n",
       "\n",
       "    No. phenotypes:     1 \n",
       "    Percent phenotyped: 100 \n",
       "\n",
       "    No. chromosomes:    5 \n",
       "        Autosomes:      1 2 3 4 5 \n",
       "\n",
       "    Total markers:      585 \n",
       "    No. markers:        130 95 100 120 140 \n",
       "    Percent genotyped:  100 \n",
       "    Genotypes (%):      AA:50.6  AB:49.4 \n",
       "        chr        pos       lod\n",
       "D1M1      1 0.00000000 0.2738433\n",
       "D1M2      1 0.08463854 0.2738481\n",
       "c1.loc1   1 1.00000000 0.3264282\n",
       "c1.loc2   1 2.00000000 0.3848375\n",
       "D1M3      1 2.62474556 0.4211742\n",
       "D1M4      1 2.66862727 0.4211767\n",
       "[1] \"scanone\"    \"data.frame\"\n",
       "[1] \"scanone\"    \"data.frame\"\n",
       "png \n",
       "  2 \n"
      ]
     },
     "metadata": {},
     "output_type": "display_data"
    },
    {
     "data": {
      "image/png": "[encoded data removed]"
     },
     "metadata": {},
     "output_type": "display_data"
    },
    {
     "data": {
      "image/png": "[encoded data removed]"
     },
     "metadata": {},
     "output_type": "display_data"
    }
   ],
   "source": [
    "%%R\n",
    "\n",
    "library(qtl)\n",
    "data = read.cross('csv', file = 'BC_dominant_cross.csv', estimate.map=F, \n",
    "                  crosstype='bc')\n",
    "print(summary(data))\n",
    "data = calc.genoprob(data, step=1, error.prob=0.001)\n",
    "#data=jittermap(data)\n",
    "out.mr = scanone(data, method='em')\n",
    "print(head(out.mr))\n",
    "\n",
    "plot(out.mr, main='QTL mapping R/QTL')\n",
    "plot(out.mr, chr=3, main='QTL mapping R/QTL (LG3)')\n",
    "abline(v=25, lty=2, lwd=2)\n",
    "print(class(out.mr))\n",
    "\n",
    "\n",
    "pdf('Results_RQtls.pdf', width=8, height=4)\n",
    "plot(out.mr, main='QTL mapping R/QTL')\n",
    "plot(out.mr, chr=3, main='QTL mapping R/QTL (LG3)')\n",
    "abline(v=25, lty=2, lwd=2)\n",
    "print(class(out.mr))\n",
    "dev.off()"
   ]
  },
  {
   "cell_type": "markdown",
   "metadata": {},
   "source": [
    "## Evaluate pipeline"
   ]
  },
  {
   "cell_type": "code",
   "execution_count": 108,
   "metadata": {},
   "outputs": [
    {
     "data": {
      "text/html": [
       "<div>\n",
       "<table border=\"1\" class=\"dataframe\">\n",
       "  <thead>\n",
       "    <tr style=\"text-align: right;\">\n",
       "      <th></th>\n",
       "      <th>phenotype</th>\n",
       "      <th>D1M1</th>\n",
       "      <th>D1M2</th>\n",
       "      <th>D1M3</th>\n",
       "      <th>D1M4</th>\n",
       "      <th>D1M5</th>\n",
       "      <th>D1M6</th>\n",
       "      <th>D1M7</th>\n",
       "      <th>D1M8</th>\n",
       "      <th>D1M9</th>\n",
       "      <th>...</th>\n",
       "      <th>D5M131</th>\n",
       "      <th>D5M132</th>\n",
       "      <th>D5M133</th>\n",
       "      <th>D5M134</th>\n",
       "      <th>D5M135</th>\n",
       "      <th>D5M136</th>\n",
       "      <th>D5M137</th>\n",
       "      <th>D5M138</th>\n",
       "      <th>D5M139</th>\n",
       "      <th>D5M140</th>\n",
       "    </tr>\n",
       "  </thead>\n",
       "  <tbody>\n",
       "    <tr>\n",
       "      <th>0</th>\n",
       "      <td>0.921074</td>\n",
       "      <td>H</td>\n",
       "      <td>H</td>\n",
       "      <td>H</td>\n",
       "      <td>H</td>\n",
       "      <td>H</td>\n",
       "      <td>H</td>\n",
       "      <td>H</td>\n",
       "      <td>H</td>\n",
       "      <td>H</td>\n",
       "      <td>...</td>\n",
       "      <td>A</td>\n",
       "      <td>A</td>\n",
       "      <td>A</td>\n",
       "      <td>A</td>\n",
       "      <td>A</td>\n",
       "      <td>A</td>\n",
       "      <td>A</td>\n",
       "      <td>A</td>\n",
       "      <td>A</td>\n",
       "      <td>A</td>\n",
       "    </tr>\n",
       "    <tr>\n",
       "      <th>1</th>\n",
       "      <td>-1.043427</td>\n",
       "      <td>H</td>\n",
       "      <td>H</td>\n",
       "      <td>H</td>\n",
       "      <td>H</td>\n",
       "      <td>H</td>\n",
       "      <td>H</td>\n",
       "      <td>H</td>\n",
       "      <td>H</td>\n",
       "      <td>H</td>\n",
       "      <td>...</td>\n",
       "      <td>A</td>\n",
       "      <td>A</td>\n",
       "      <td>A</td>\n",
       "      <td>A</td>\n",
       "      <td>A</td>\n",
       "      <td>A</td>\n",
       "      <td>A</td>\n",
       "      <td>A</td>\n",
       "      <td>A</td>\n",
       "      <td>A</td>\n",
       "    </tr>\n",
       "    <tr>\n",
       "      <th>2</th>\n",
       "      <td>1.692309</td>\n",
       "      <td>A</td>\n",
       "      <td>A</td>\n",
       "      <td>A</td>\n",
       "      <td>A</td>\n",
       "      <td>A</td>\n",
       "      <td>A</td>\n",
       "      <td>A</td>\n",
       "      <td>A</td>\n",
       "      <td>A</td>\n",
       "      <td>...</td>\n",
       "      <td>H</td>\n",
       "      <td>H</td>\n",
       "      <td>H</td>\n",
       "      <td>H</td>\n",
       "      <td>H</td>\n",
       "      <td>H</td>\n",
       "      <td>H</td>\n",
       "      <td>H</td>\n",
       "      <td>H</td>\n",
       "      <td>H</td>\n",
       "    </tr>\n",
       "    <tr>\n",
       "      <th>3</th>\n",
       "      <td>0.161661</td>\n",
       "      <td>H</td>\n",
       "      <td>H</td>\n",
       "      <td>H</td>\n",
       "      <td>H</td>\n",
       "      <td>H</td>\n",
       "      <td>H</td>\n",
       "      <td>H</td>\n",
       "      <td>H</td>\n",
       "      <td>H</td>\n",
       "      <td>...</td>\n",
       "      <td>A</td>\n",
       "      <td>A</td>\n",
       "      <td>A</td>\n",
       "      <td>A</td>\n",
       "      <td>A</td>\n",
       "      <td>A</td>\n",
       "      <td>A</td>\n",
       "      <td>A</td>\n",
       "      <td>A</td>\n",
       "      <td>A</td>\n",
       "    </tr>\n",
       "    <tr>\n",
       "      <th>4</th>\n",
       "      <td>-0.763335</td>\n",
       "      <td>A</td>\n",
       "      <td>A</td>\n",
       "      <td>A</td>\n",
       "      <td>A</td>\n",
       "      <td>A</td>\n",
       "      <td>A</td>\n",
       "      <td>A</td>\n",
       "      <td>A</td>\n",
       "      <td>A</td>\n",
       "      <td>...</td>\n",
       "      <td>A</td>\n",
       "      <td>A</td>\n",
       "      <td>A</td>\n",
       "      <td>A</td>\n",
       "      <td>A</td>\n",
       "      <td>A</td>\n",
       "      <td>A</td>\n",
       "      <td>A</td>\n",
       "      <td>A</td>\n",
       "      <td>H</td>\n",
       "    </tr>\n",
       "  </tbody>\n",
       "</table>\n",
       "<p>5 rows × 586 columns</p>\n",
       "</div>"
      ],
      "text/plain": [
       "   phenotype D1M1 D1M2 D1M3 D1M4 D1M5 D1M6 D1M7 D1M8 D1M9  ...   D5M131  \\\n",
       "0   0.921074    H    H    H    H    H    H    H    H    H  ...        A   \n",
       "1  -1.043427    H    H    H    H    H    H    H    H    H  ...        A   \n",
       "2   1.692309    A    A    A    A    A    A    A    A    A  ...        H   \n",
       "3   0.161661    H    H    H    H    H    H    H    H    H  ...        A   \n",
       "4  -0.763335    A    A    A    A    A    A    A    A    A  ...        A   \n",
       "\n",
       "  D5M132 D5M133 D5M134 D5M135 D5M136 D5M137 D5M138 D5M139 D5M140  \n",
       "0      A      A      A      A      A      A      A      A      A  \n",
       "1      A      A      A      A      A      A      A      A      A  \n",
       "2      H      H      H      H      H      H      H      H      H  \n",
       "3      A      A      A      A      A      A      A      A      A  \n",
       "4      A      A      A      A      A      A      A      A      H  \n",
       "\n",
       "[5 rows x 586 columns]"
      ]
     },
     "execution_count": 108,
     "metadata": {},
     "output_type": "execute_result"
    }
   ],
   "source": [
    "cross = pd.read_csv('BC_dominant_cross.csv', sep=',', header=0, skiprows=[1,2])\n",
    "cross.head()"
   ]
  },
  {
   "cell_type": "code",
   "execution_count": 109,
   "metadata": {},
   "outputs": [
    {
     "data": {
      "text/html": [
       "<div>\n",
       "<table border=\"1\" class=\"dataframe\">\n",
       "  <thead>\n",
       "    <tr style=\"text-align: right;\">\n",
       "      <th></th>\n",
       "      <th>D1M1</th>\n",
       "      <th>D1M2</th>\n",
       "      <th>D1M3</th>\n",
       "      <th>D1M4</th>\n",
       "      <th>D1M5</th>\n",
       "      <th>D1M6</th>\n",
       "      <th>D1M7</th>\n",
       "      <th>D1M8</th>\n",
       "      <th>D1M9</th>\n",
       "      <th>D1M10</th>\n",
       "      <th>...</th>\n",
       "      <th>D5M131</th>\n",
       "      <th>D5M132</th>\n",
       "      <th>D5M133</th>\n",
       "      <th>D5M134</th>\n",
       "      <th>D5M135</th>\n",
       "      <th>D5M136</th>\n",
       "      <th>D5M137</th>\n",
       "      <th>D5M138</th>\n",
       "      <th>D5M139</th>\n",
       "      <th>D5M140</th>\n",
       "    </tr>\n",
       "  </thead>\n",
       "  <tbody>\n",
       "    <tr>\n",
       "      <th>0</th>\n",
       "      <td>H</td>\n",
       "      <td>H</td>\n",
       "      <td>H</td>\n",
       "      <td>H</td>\n",
       "      <td>H</td>\n",
       "      <td>H</td>\n",
       "      <td>H</td>\n",
       "      <td>H</td>\n",
       "      <td>H</td>\n",
       "      <td>A</td>\n",
       "      <td>...</td>\n",
       "      <td>A</td>\n",
       "      <td>A</td>\n",
       "      <td>A</td>\n",
       "      <td>A</td>\n",
       "      <td>A</td>\n",
       "      <td>A</td>\n",
       "      <td>A</td>\n",
       "      <td>A</td>\n",
       "      <td>A</td>\n",
       "      <td>A</td>\n",
       "    </tr>\n",
       "    <tr>\n",
       "      <th>1</th>\n",
       "      <td>H</td>\n",
       "      <td>H</td>\n",
       "      <td>H</td>\n",
       "      <td>H</td>\n",
       "      <td>H</td>\n",
       "      <td>H</td>\n",
       "      <td>H</td>\n",
       "      <td>H</td>\n",
       "      <td>H</td>\n",
       "      <td>H</td>\n",
       "      <td>...</td>\n",
       "      <td>A</td>\n",
       "      <td>A</td>\n",
       "      <td>A</td>\n",
       "      <td>A</td>\n",
       "      <td>A</td>\n",
       "      <td>A</td>\n",
       "      <td>A</td>\n",
       "      <td>A</td>\n",
       "      <td>A</td>\n",
       "      <td>A</td>\n",
       "    </tr>\n",
       "    <tr>\n",
       "      <th>2</th>\n",
       "      <td>A</td>\n",
       "      <td>A</td>\n",
       "      <td>A</td>\n",
       "      <td>A</td>\n",
       "      <td>A</td>\n",
       "      <td>A</td>\n",
       "      <td>A</td>\n",
       "      <td>A</td>\n",
       "      <td>A</td>\n",
       "      <td>A</td>\n",
       "      <td>...</td>\n",
       "      <td>H</td>\n",
       "      <td>H</td>\n",
       "      <td>H</td>\n",
       "      <td>H</td>\n",
       "      <td>H</td>\n",
       "      <td>H</td>\n",
       "      <td>H</td>\n",
       "      <td>H</td>\n",
       "      <td>H</td>\n",
       "      <td>H</td>\n",
       "    </tr>\n",
       "    <tr>\n",
       "      <th>3</th>\n",
       "      <td>H</td>\n",
       "      <td>H</td>\n",
       "      <td>H</td>\n",
       "      <td>H</td>\n",
       "      <td>H</td>\n",
       "      <td>H</td>\n",
       "      <td>H</td>\n",
       "      <td>H</td>\n",
       "      <td>H</td>\n",
       "      <td>H</td>\n",
       "      <td>...</td>\n",
       "      <td>A</td>\n",
       "      <td>A</td>\n",
       "      <td>A</td>\n",
       "      <td>A</td>\n",
       "      <td>A</td>\n",
       "      <td>A</td>\n",
       "      <td>A</td>\n",
       "      <td>A</td>\n",
       "      <td>A</td>\n",
       "      <td>A</td>\n",
       "    </tr>\n",
       "    <tr>\n",
       "      <th>4</th>\n",
       "      <td>A</td>\n",
       "      <td>A</td>\n",
       "      <td>A</td>\n",
       "      <td>A</td>\n",
       "      <td>A</td>\n",
       "      <td>A</td>\n",
       "      <td>A</td>\n",
       "      <td>A</td>\n",
       "      <td>A</td>\n",
       "      <td>A</td>\n",
       "      <td>...</td>\n",
       "      <td>A</td>\n",
       "      <td>A</td>\n",
       "      <td>A</td>\n",
       "      <td>A</td>\n",
       "      <td>A</td>\n",
       "      <td>A</td>\n",
       "      <td>A</td>\n",
       "      <td>A</td>\n",
       "      <td>A</td>\n",
       "      <td>H</td>\n",
       "    </tr>\n",
       "  </tbody>\n",
       "</table>\n",
       "<p>5 rows × 585 columns</p>\n",
       "</div>"
      ],
      "text/plain": [
       "  D1M1 D1M2 D1M3 D1M4 D1M5 D1M6 D1M7 D1M8 D1M9 D1M10  ...   D5M131 D5M132  \\\n",
       "0    H    H    H    H    H    H    H    H    H     A  ...        A      A   \n",
       "1    H    H    H    H    H    H    H    H    H     H  ...        A      A   \n",
       "2    A    A    A    A    A    A    A    A    A     A  ...        H      H   \n",
       "3    H    H    H    H    H    H    H    H    H     H  ...        A      A   \n",
       "4    A    A    A    A    A    A    A    A    A     A  ...        A      A   \n",
       "\n",
       "  D5M133 D5M134 D5M135 D5M136 D5M137 D5M138 D5M139 D5M140  \n",
       "0      A      A      A      A      A      A      A      A  \n",
       "1      A      A      A      A      A      A      A      A  \n",
       "2      H      H      H      H      H      H      H      H  \n",
       "3      A      A      A      A      A      A      A      A  \n",
       "4      A      A      A      A      A      A      A      H  \n",
       "\n",
       "[5 rows x 585 columns]"
      ]
     },
     "execution_count": 109,
     "metadata": {},
     "output_type": "execute_result"
    }
   ],
   "source": [
    "# prepare Y and drop\n",
    "y = cross['phenotype']\n",
    "cross = cross.drop('phenotype', axis=1)\n",
    "cross.head()"
   ]
  },
  {
   "cell_type": "code",
   "execution_count": 110,
   "metadata": {},
   "outputs": [
    {
     "data": {
      "text/html": [
       "<div>\n",
       "<table border=\"1\" class=\"dataframe\">\n",
       "  <thead>\n",
       "    <tr style=\"text-align: right;\">\n",
       "      <th></th>\n",
       "      <th>D1M1</th>\n",
       "      <th>D1M2</th>\n",
       "      <th>D1M3</th>\n",
       "      <th>D1M4</th>\n",
       "      <th>D1M5</th>\n",
       "      <th>D1M6</th>\n",
       "      <th>D1M7</th>\n",
       "      <th>D1M8</th>\n",
       "      <th>D1M9</th>\n",
       "      <th>D1M10</th>\n",
       "      <th>...</th>\n",
       "      <th>D5M131</th>\n",
       "      <th>D5M132</th>\n",
       "      <th>D5M133</th>\n",
       "      <th>D5M134</th>\n",
       "      <th>D5M135</th>\n",
       "      <th>D5M136</th>\n",
       "      <th>D5M137</th>\n",
       "      <th>D5M138</th>\n",
       "      <th>D5M139</th>\n",
       "      <th>D5M140</th>\n",
       "    </tr>\n",
       "  </thead>\n",
       "  <tbody>\n",
       "    <tr>\n",
       "      <th>0</th>\n",
       "      <td>1</td>\n",
       "      <td>1</td>\n",
       "      <td>1</td>\n",
       "      <td>1</td>\n",
       "      <td>1</td>\n",
       "      <td>1</td>\n",
       "      <td>1</td>\n",
       "      <td>1</td>\n",
       "      <td>1</td>\n",
       "      <td>0</td>\n",
       "      <td>...</td>\n",
       "      <td>0</td>\n",
       "      <td>0</td>\n",
       "      <td>0</td>\n",
       "      <td>0</td>\n",
       "      <td>0</td>\n",
       "      <td>0</td>\n",
       "      <td>0</td>\n",
       "      <td>0</td>\n",
       "      <td>0</td>\n",
       "      <td>0</td>\n",
       "    </tr>\n",
       "    <tr>\n",
       "      <th>1</th>\n",
       "      <td>1</td>\n",
       "      <td>1</td>\n",
       "      <td>1</td>\n",
       "      <td>1</td>\n",
       "      <td>1</td>\n",
       "      <td>1</td>\n",
       "      <td>1</td>\n",
       "      <td>1</td>\n",
       "      <td>1</td>\n",
       "      <td>1</td>\n",
       "      <td>...</td>\n",
       "      <td>0</td>\n",
       "      <td>0</td>\n",
       "      <td>0</td>\n",
       "      <td>0</td>\n",
       "      <td>0</td>\n",
       "      <td>0</td>\n",
       "      <td>0</td>\n",
       "      <td>0</td>\n",
       "      <td>0</td>\n",
       "      <td>0</td>\n",
       "    </tr>\n",
       "    <tr>\n",
       "      <th>2</th>\n",
       "      <td>0</td>\n",
       "      <td>0</td>\n",
       "      <td>0</td>\n",
       "      <td>0</td>\n",
       "      <td>0</td>\n",
       "      <td>0</td>\n",
       "      <td>0</td>\n",
       "      <td>0</td>\n",
       "      <td>0</td>\n",
       "      <td>0</td>\n",
       "      <td>...</td>\n",
       "      <td>1</td>\n",
       "      <td>1</td>\n",
       "      <td>1</td>\n",
       "      <td>1</td>\n",
       "      <td>1</td>\n",
       "      <td>1</td>\n",
       "      <td>1</td>\n",
       "      <td>1</td>\n",
       "      <td>1</td>\n",
       "      <td>1</td>\n",
       "    </tr>\n",
       "    <tr>\n",
       "      <th>3</th>\n",
       "      <td>1</td>\n",
       "      <td>1</td>\n",
       "      <td>1</td>\n",
       "      <td>1</td>\n",
       "      <td>1</td>\n",
       "      <td>1</td>\n",
       "      <td>1</td>\n",
       "      <td>1</td>\n",
       "      <td>1</td>\n",
       "      <td>1</td>\n",
       "      <td>...</td>\n",
       "      <td>0</td>\n",
       "      <td>0</td>\n",
       "      <td>0</td>\n",
       "      <td>0</td>\n",
       "      <td>0</td>\n",
       "      <td>0</td>\n",
       "      <td>0</td>\n",
       "      <td>0</td>\n",
       "      <td>0</td>\n",
       "      <td>0</td>\n",
       "    </tr>\n",
       "    <tr>\n",
       "      <th>4</th>\n",
       "      <td>0</td>\n",
       "      <td>0</td>\n",
       "      <td>0</td>\n",
       "      <td>0</td>\n",
       "      <td>0</td>\n",
       "      <td>0</td>\n",
       "      <td>0</td>\n",
       "      <td>0</td>\n",
       "      <td>0</td>\n",
       "      <td>0</td>\n",
       "      <td>...</td>\n",
       "      <td>0</td>\n",
       "      <td>0</td>\n",
       "      <td>0</td>\n",
       "      <td>0</td>\n",
       "      <td>0</td>\n",
       "      <td>0</td>\n",
       "      <td>0</td>\n",
       "      <td>0</td>\n",
       "      <td>0</td>\n",
       "      <td>1</td>\n",
       "    </tr>\n",
       "  </tbody>\n",
       "</table>\n",
       "<p>5 rows × 585 columns</p>\n",
       "</div>"
      ],
      "text/plain": [
       "   D1M1  D1M2  D1M3  D1M4  D1M5  D1M6  D1M7  D1M8  D1M9  D1M10   ...    \\\n",
       "0     1     1     1     1     1     1     1     1     1      0   ...     \n",
       "1     1     1     1     1     1     1     1     1     1      1   ...     \n",
       "2     0     0     0     0     0     0     0     0     0      0   ...     \n",
       "3     1     1     1     1     1     1     1     1     1      1   ...     \n",
       "4     0     0     0     0     0     0     0     0     0      0   ...     \n",
       "\n",
       "   D5M131  D5M132  D5M133  D5M134  D5M135  D5M136  D5M137  D5M138  D5M139  \\\n",
       "0       0       0       0       0       0       0       0       0       0   \n",
       "1       0       0       0       0       0       0       0       0       0   \n",
       "2       1       1       1       1       1       1       1       1       1   \n",
       "3       0       0       0       0       0       0       0       0       0   \n",
       "4       0       0       0       0       0       0       0       0       0   \n",
       "\n",
       "   D5M140  \n",
       "0       0  \n",
       "1       0  \n",
       "2       1  \n",
       "3       0  \n",
       "4       1  \n",
       "\n",
       "[5 rows x 585 columns]"
      ]
     },
     "execution_count": 110,
     "metadata": {},
     "output_type": "execute_result"
    }
   ],
   "source": [
    "#prepare_array\n",
    "d = {'A':0, 'H':1}\n",
    "cross_numeric = cross.replace(to_replace=d)\n",
    "cross_numeric.head()"
   ]
  },
  {
   "cell_type": "markdown",
   "metadata": {},
   "source": [
    "### Test implementation of pipeline"
   ]
  },
  {
   "cell_type": "code",
   "execution_count": 111,
   "metadata": {
    "collapsed": true
   },
   "outputs": [],
   "source": [
    "from sklearn.model_selection import train_test_split\n",
    "X = cross_numeric.values\n",
    "y = y.values\n",
    "\n",
    "vals = mlQTLs_analysis(X, y, n_estimators=50)"
   ]
  },
  {
   "cell_type": "code",
   "execution_count": 112,
   "metadata": {},
   "outputs": [
    {
     "data": {
      "text/html": [
       "<div>\n",
       "<table border=\"1\" class=\"dataframe\">\n",
       "  <thead>\n",
       "    <tr style=\"text-align: right;\">\n",
       "      <th></th>\n",
       "      <th>Vals</th>\n",
       "      <th>markers_ID</th>\n",
       "    </tr>\n",
       "  </thead>\n",
       "  <tbody>\n",
       "    <tr>\n",
       "      <th>0</th>\n",
       "      <td>0.0</td>\n",
       "      <td>D1M1</td>\n",
       "    </tr>\n",
       "    <tr>\n",
       "      <th>1</th>\n",
       "      <td>0.0</td>\n",
       "      <td>D1M2</td>\n",
       "    </tr>\n",
       "    <tr>\n",
       "      <th>2</th>\n",
       "      <td>0.0</td>\n",
       "      <td>D1M3</td>\n",
       "    </tr>\n",
       "    <tr>\n",
       "      <th>3</th>\n",
       "      <td>0.0</td>\n",
       "      <td>D1M4</td>\n",
       "    </tr>\n",
       "    <tr>\n",
       "      <th>4</th>\n",
       "      <td>0.0</td>\n",
       "      <td>D1M5</td>\n",
       "    </tr>\n",
       "  </tbody>\n",
       "</table>\n",
       "</div>"
      ],
      "text/plain": [
       "   Vals markers_ID\n",
       "0   0.0       D1M1\n",
       "1   0.0       D1M2\n",
       "2   0.0       D1M3\n",
       "3   0.0       D1M4\n",
       "4   0.0       D1M5"
      ]
     },
     "execution_count": 112,
     "metadata": {},
     "output_type": "execute_result"
    }
   ],
   "source": [
    "new_frame = pd.DataFrame({'markers_ID': cross_numeric.columns, 'Vals' :vals})\n",
    "new_frame.head()"
   ]
  },
  {
   "cell_type": "code",
   "execution_count": 113,
   "metadata": {
    "scrolled": true
   },
   "outputs": [
    {
     "data": {
      "text/html": [
       "<div>\n",
       "<table border=\"1\" class=\"dataframe\">\n",
       "  <thead>\n",
       "    <tr style=\"text-align: right;\">\n",
       "      <th></th>\n",
       "      <th>Vals</th>\n",
       "      <th>markers_ID</th>\n",
       "    </tr>\n",
       "  </thead>\n",
       "  <tbody>\n",
       "    <tr>\n",
       "      <th>243</th>\n",
       "      <td>13.605951</td>\n",
       "      <td>D3M19</td>\n",
       "    </tr>\n",
       "    <tr>\n",
       "      <th>244</th>\n",
       "      <td>5.760378</td>\n",
       "      <td>D3M20</td>\n",
       "    </tr>\n",
       "    <tr>\n",
       "      <th>245</th>\n",
       "      <td>1.439213</td>\n",
       "      <td>D3M21</td>\n",
       "    </tr>\n",
       "    <tr>\n",
       "      <th>240</th>\n",
       "      <td>1.041513</td>\n",
       "      <td>D3M16</td>\n",
       "    </tr>\n",
       "    <tr>\n",
       "      <th>306</th>\n",
       "      <td>0.849114</td>\n",
       "      <td>D3M82</td>\n",
       "    </tr>\n",
       "  </tbody>\n",
       "</table>\n",
       "</div>"
      ],
      "text/plain": [
       "          Vals markers_ID\n",
       "243  13.605951      D3M19\n",
       "244   5.760378      D3M20\n",
       "245   1.439213      D3M21\n",
       "240   1.041513      D3M16\n",
       "306   0.849114      D3M82"
      ]
     },
     "execution_count": 113,
     "metadata": {},
     "output_type": "execute_result"
    }
   ],
   "source": [
    "new_frame.sort_values(by='Vals', ascending=False).head()"
   ]
  },
  {
   "cell_type": "code",
   "execution_count": 114,
   "metadata": {},
   "outputs": [
    {
     "data": {
      "text/plain": [
       "pandas.core.series.Series"
      ]
     },
     "execution_count": 114,
     "metadata": {},
     "output_type": "execute_result"
    }
   ],
   "source": [
    "new_frame2 = new_frame[new_frame['Vals']> 0].sort_values(by='Vals', ascending=False)\n",
    "type(new_frame2['markers_ID'])"
   ]
  },
  {
   "cell_type": "markdown",
   "metadata": {},
   "source": [
    "## Final resolution\n",
    "\n",
    "**Use np.sum for the scores and weights and identify the most significant markers**\n",
    "\n",
    "This option works kind of well with small effects single QTLs (ration 0.6 you can still identify good markers)\n",
    "It would be interesting to evaluate the number of iterations depending on the QTL effect.\n",
    "\n",
    "BTW you should check the LassoCV coefficient distribution as well."
   ]
  },
  {
   "cell_type": "code",
   "execution_count": 115,
   "metadata": {},
   "outputs": [
    {
     "data": {
      "text/plain": [
       "0                   3\n",
       "1    25.5257339915261\n",
       "2                   H\n",
       "3                   A\n",
       "4                   H\n",
       "Name: D3M19, dtype: object"
      ]
     },
     "execution_count": 115,
     "metadata": {},
     "output_type": "execute_result"
    }
   ],
   "source": [
    "cross2 = pd.read_csv('BC_dominant_cross.csv', sep=',', header=0)#, skiprows=[1])\n",
    "cross2['D3M19'].head()"
   ]
  },
  {
   "cell_type": "code",
   "execution_count": 116,
   "metadata": {},
   "outputs": [
    {
     "data": {
      "text/html": [
       "<div>\n",
       "<table border=\"1\" class=\"dataframe\">\n",
       "  <thead>\n",
       "    <tr style=\"text-align: right;\">\n",
       "      <th></th>\n",
       "      <th>CHR</th>\n",
       "      <th>BP</th>\n",
       "      <th>P</th>\n",
       "    </tr>\n",
       "  </thead>\n",
       "  <tbody>\n",
       "    <tr>\n",
       "      <th>D1M1</th>\n",
       "      <td>1</td>\n",
       "      <td>0</td>\n",
       "      <td>0.0</td>\n",
       "    </tr>\n",
       "    <tr>\n",
       "      <th>D1M2</th>\n",
       "      <td>1</td>\n",
       "      <td>0.0846385443583131</td>\n",
       "      <td>0.0</td>\n",
       "    </tr>\n",
       "    <tr>\n",
       "      <th>D1M3</th>\n",
       "      <td>1</td>\n",
       "      <td>2.62474556220695</td>\n",
       "      <td>0.0</td>\n",
       "    </tr>\n",
       "    <tr>\n",
       "      <th>D1M4</th>\n",
       "      <td>1</td>\n",
       "      <td>2.66862726770341</td>\n",
       "      <td>0.0</td>\n",
       "    </tr>\n",
       "    <tr>\n",
       "      <th>D1M5</th>\n",
       "      <td>1</td>\n",
       "      <td>2.67997213173658</td>\n",
       "      <td>0.0</td>\n",
       "    </tr>\n",
       "  </tbody>\n",
       "</table>\n",
       "</div>"
      ],
      "text/plain": [
       "     CHR                  BP    P\n",
       "D1M1   1                   0  0.0\n",
       "D1M2   1  0.0846385443583131  0.0\n",
       "D1M3   1    2.62474556220695  0.0\n",
       "D1M4   1    2.66862726770341  0.0\n",
       "D1M5   1    2.67997213173658  0.0"
      ]
     },
     "execution_count": 116,
     "metadata": {},
     "output_type": "execute_result"
    }
   ],
   "source": [
    "chrom_ID = cross2.iloc[0, 1:]\n",
    "cM = cross2.iloc[1, 1:]\n",
    "final_res = pd.DataFrame({'CHR':chrom_ID, 'BP':cM, 'P':vals}, columns=['CHR', 'BP', 'P'])\n",
    "final_res.head()"
   ]
  },
  {
   "cell_type": "code",
   "execution_count": 117,
   "metadata": {},
   "outputs": [
    {
     "data": {
      "text/html": [
       "<div>\n",
       "<table border=\"1\" class=\"dataframe\">\n",
       "  <thead>\n",
       "    <tr style=\"text-align: right;\">\n",
       "      <th></th>\n",
       "      <th>CHR</th>\n",
       "      <th>BP</th>\n",
       "      <th>P</th>\n",
       "    </tr>\n",
       "  </thead>\n",
       "  <tbody>\n",
       "    <tr>\n",
       "      <th>D3M19</th>\n",
       "      <td>3</td>\n",
       "      <td>25.5257339915261</td>\n",
       "      <td>13.605951</td>\n",
       "    </tr>\n",
       "  </tbody>\n",
       "</table>\n",
       "</div>"
      ],
      "text/plain": [
       "      CHR                BP          P\n",
       "D3M19   3  25.5257339915261  13.605951"
      ]
     },
     "execution_count": 117,
     "metadata": {},
     "output_type": "execute_result"
    }
   ],
   "source": [
    "final_res[final_res['P']== max(final_res['P'])]"
   ]
  },
  {
   "cell_type": "code",
   "execution_count": 118,
   "metadata": {
    "collapsed": true
   },
   "outputs": [],
   "source": [
    "%Rpush final_res"
   ]
  },
  {
   "cell_type": "code",
   "execution_count": 119,
   "metadata": {},
   "outputs": [
    {
     "data": {
      "text/plain": [
       "png \n",
       "  2 \n"
      ]
     },
     "metadata": {},
     "output_type": "display_data"
    },
    {
     "data": {
      "image/png": "[encoded data removed]"
     },
     "metadata": {},
     "output_type": "display_data"
    },
    {
     "data": {
      "image/png": "[encoded data removed]"
     },
     "metadata": {},
     "output_type": "display_data"
    }
   ],
   "source": [
    "%%R\n",
    "\n",
    "library(qqman)\n",
    "final_res$CHR=as.numeric(final_res$CHR)\n",
    "final_res$BP=as.numeric(final_res$BP)\n",
    "class(final_res$P)\n",
    "manhattan(final_res, logp=F, suggestiveline=F, genomewideline=F, ylab='scores', main='Bagging-L1')#,\n",
    "         #ylim=c(0,700))\n",
    "\n",
    "manhattan(subset(final_res, final_res$CHR==3), logp=F, suggestiveline=F, genomewideline=F, \n",
    "          ylab='scores', main='Bagging-L1 (LG3)')#, ylim=c(0, 700))\n",
    "abline(v=25, lty=2, lwd=2)\n",
    "pdf('Results_BagL1.pdf', width=8, height=4)\n",
    "manhattan(final_res, logp=F, suggestiveline=F, genomewideline=F, ylab='scores', main='Bagging-L1',\n",
    "         ylim=c(0,700))\n",
    "\n",
    "manhattan(subset(final_res, final_res$CHR==3), logp=F, suggestiveline=F, genomewideline=F, \n",
    "          ylab='scores', main='Bagging-L1 (LG3)', ylim=c(0,700))\n",
    "abline(v=25, lty=2, lwd=2)\n",
    "dev.off()"
   ]
  },
  {
   "cell_type": "markdown",
   "metadata": {},
   "source": [
    "## Evaluate stability of scores"
   ]
  },
  {
   "cell_type": "code",
   "execution_count": 3,
   "metadata": {
    "collapsed": true
   },
   "outputs": [],
   "source": [
    "# load data\n",
    "cross = pd.read_csv('BC_dominant_cross.csv', sep=',', header=0, skiprows=[1,2])\n",
    "# prepare Y and drop\n",
    "y = cross['phenotype']\n",
    "cross = cross.drop('phenotype', axis=1)\n",
    "\n",
    "#prepare_array\n",
    "d = {'A':0, 'H':1}\n",
    "cross_numeric = cross.replace(to_replace=d)\n",
    "\n",
    "X = cross_numeric.values\n",
    "y = y.values"
   ]
  },
  {
   "cell_type": "code",
   "execution_count": 4,
   "metadata": {
    "collapsed": true
   },
   "outputs": [],
   "source": [
    "# evaluate best number of estimators\n",
    "final_rank_by_ests=[]\n",
    "reps=100\n",
    "\n",
    "check_n_estimators = [1,5,10, 20, 40, 50 ,100]\n",
    "for est in check_n_estimators:\n",
    "    first_rank = []\n",
    "    for i in range(reps):\n",
    "        vals = mlQTLs_analysis(X, y, n_estimators=est, random_state = est*i)\n",
    "        new_frame = pd.DataFrame({'markers_ID': cross_numeric.columns, 'Vals' :vals})\n",
    "        new_frame2 = new_frame[new_frame['Vals']> 0].sort_values(by='Vals', ascending=False)\n",
    "        first_rank.append(new_frame2['markers_ID'].values[0])\n",
    "    final_rank_by_ests.append(np.unique(first_rank, return_counts=True))\n"
   ]
  },
  {
   "cell_type": "code",
   "execution_count": 64,
   "metadata": {},
   "outputs": [
    {
     "name": "stdout",
     "output_type": "stream",
     "text": [
      "[(array(['D3M16', 'D3M19', 'D3M20', 'D3M21'],\n",
      "      dtype='<U5'), array([ 2, 68, 11, 19])), (array(['D3M13', 'D3M16', 'D3M19', 'D3M20', 'D3M21'],\n",
      "      dtype='<U5'), array([ 1,  1, 85,  6,  7])), (array(['D3M19', 'D3M20', 'D3M21'],\n",
      "      dtype='<U5'), array([94,  4,  2])), (array(['D3M19', 'D3M20', 'D3M21'],\n",
      "      dtype='<U5'), array([98,  1,  1])), (array(['D3M19', 'D3M20', 'D3M21'],\n",
      "      dtype='<U5'), array([98,  1,  1])), (array(['D3M19', 'D3M20', 'D3M21'],\n",
      "      dtype='<U5'), array([98,  1,  1]))]\n"
     ]
    },
    {
     "data": {
      "text/plain": [
       "[5, 10, 20, 40, 50, 100]"
      ]
     },
     "execution_count": 64,
     "metadata": {},
     "output_type": "execute_result"
    }
   ],
   "source": [
    "print(final_rank_by_ests)\n",
    "check_n_estimators=[5, 10, 20, 40, 50, 100]\n",
    "check_n_estimators"
   ]
  },
  {
   "cell_type": "code",
   "execution_count": 123,
   "metadata": {},
   "outputs": [
    {
     "data": {
      "text/html": [
       "<div>\n",
       "<table border=\"1\" class=\"dataframe\">\n",
       "  <thead>\n",
       "    <tr style=\"text-align: right;\">\n",
       "      <th></th>\n",
       "      <th>est</th>\n",
       "      <th>Markers</th>\n",
       "      <th>Score</th>\n",
       "    </tr>\n",
       "  </thead>\n",
       "  <tbody>\n",
       "    <tr>\n",
       "      <th>0</th>\n",
       "      <td>5</td>\n",
       "      <td>D3M16</td>\n",
       "      <td>2</td>\n",
       "    </tr>\n",
       "    <tr>\n",
       "      <th>1</th>\n",
       "      <td>5</td>\n",
       "      <td>D3M19</td>\n",
       "      <td>68</td>\n",
       "    </tr>\n",
       "    <tr>\n",
       "      <th>2</th>\n",
       "      <td>5</td>\n",
       "      <td>D3M20</td>\n",
       "      <td>11</td>\n",
       "    </tr>\n",
       "    <tr>\n",
       "      <th>3</th>\n",
       "      <td>5</td>\n",
       "      <td>D3M21</td>\n",
       "      <td>19</td>\n",
       "    </tr>\n",
       "    <tr>\n",
       "      <th>4</th>\n",
       "      <td>10</td>\n",
       "      <td>D3M13</td>\n",
       "      <td>1</td>\n",
       "    </tr>\n",
       "    <tr>\n",
       "      <th>5</th>\n",
       "      <td>10</td>\n",
       "      <td>D3M16</td>\n",
       "      <td>1</td>\n",
       "    </tr>\n",
       "    <tr>\n",
       "      <th>6</th>\n",
       "      <td>10</td>\n",
       "      <td>D3M19</td>\n",
       "      <td>85</td>\n",
       "    </tr>\n",
       "    <tr>\n",
       "      <th>7</th>\n",
       "      <td>10</td>\n",
       "      <td>D3M20</td>\n",
       "      <td>6</td>\n",
       "    </tr>\n",
       "    <tr>\n",
       "      <th>8</th>\n",
       "      <td>10</td>\n",
       "      <td>D3M21</td>\n",
       "      <td>7</td>\n",
       "    </tr>\n",
       "    <tr>\n",
       "      <th>9</th>\n",
       "      <td>20</td>\n",
       "      <td>D3M19</td>\n",
       "      <td>94</td>\n",
       "    </tr>\n",
       "    <tr>\n",
       "      <th>10</th>\n",
       "      <td>20</td>\n",
       "      <td>D3M20</td>\n",
       "      <td>4</td>\n",
       "    </tr>\n",
       "    <tr>\n",
       "      <th>11</th>\n",
       "      <td>20</td>\n",
       "      <td>D3M21</td>\n",
       "      <td>2</td>\n",
       "    </tr>\n",
       "    <tr>\n",
       "      <th>12</th>\n",
       "      <td>40</td>\n",
       "      <td>D3M19</td>\n",
       "      <td>98</td>\n",
       "    </tr>\n",
       "    <tr>\n",
       "      <th>13</th>\n",
       "      <td>40</td>\n",
       "      <td>D3M20</td>\n",
       "      <td>1</td>\n",
       "    </tr>\n",
       "    <tr>\n",
       "      <th>14</th>\n",
       "      <td>40</td>\n",
       "      <td>D3M21</td>\n",
       "      <td>1</td>\n",
       "    </tr>\n",
       "    <tr>\n",
       "      <th>15</th>\n",
       "      <td>50</td>\n",
       "      <td>D3M19</td>\n",
       "      <td>98</td>\n",
       "    </tr>\n",
       "    <tr>\n",
       "      <th>16</th>\n",
       "      <td>50</td>\n",
       "      <td>D3M20</td>\n",
       "      <td>1</td>\n",
       "    </tr>\n",
       "    <tr>\n",
       "      <th>17</th>\n",
       "      <td>50</td>\n",
       "      <td>D3M21</td>\n",
       "      <td>1</td>\n",
       "    </tr>\n",
       "    <tr>\n",
       "      <th>18</th>\n",
       "      <td>100</td>\n",
       "      <td>D3M19</td>\n",
       "      <td>98</td>\n",
       "    </tr>\n",
       "    <tr>\n",
       "      <th>19</th>\n",
       "      <td>100</td>\n",
       "      <td>D3M20</td>\n",
       "      <td>1</td>\n",
       "    </tr>\n",
       "    <tr>\n",
       "      <th>20</th>\n",
       "      <td>100</td>\n",
       "      <td>D3M21</td>\n",
       "      <td>1</td>\n",
       "    </tr>\n",
       "  </tbody>\n",
       "</table>\n",
       "</div>"
      ],
      "text/plain": [
       "    est Markers  Score\n",
       "0     5   D3M16      2\n",
       "1     5   D3M19     68\n",
       "2     5   D3M20     11\n",
       "3     5   D3M21     19\n",
       "4    10   D3M13      1\n",
       "5    10   D3M16      1\n",
       "6    10   D3M19     85\n",
       "7    10   D3M20      6\n",
       "8    10   D3M21      7\n",
       "9    20   D3M19     94\n",
       "10   20   D3M20      4\n",
       "11   20   D3M21      2\n",
       "12   40   D3M19     98\n",
       "13   40   D3M20      1\n",
       "14   40   D3M21      1\n",
       "15   50   D3M19     98\n",
       "16   50   D3M20      1\n",
       "17   50   D3M21      1\n",
       "18  100   D3M19     98\n",
       "19  100   D3M20      1\n",
       "20  100   D3M21      1"
      ]
     },
     "execution_count": 123,
     "metadata": {},
     "output_type": "execute_result"
    }
   ],
   "source": [
    "reps_col = []\n",
    "marker = []\n",
    "vals = []\n",
    "ests = np.array(final_rank_by_ests)\n",
    "for i in range(len(check_n_estimators)):\n",
    "    reps_col = reps_col+ list(np.repeat(check_n_estimators[i], len(ests[:,0][i])))\n",
    "    marker+=list(ests[:,0][i].flatten())\n",
    "    vals+=list(ests[:,1][i].flatten())\n",
    "    \n",
    "reps_col = np.array(reps_col)\n",
    "ests_frame = pd.DataFrame({'est':reps_col, 'Markers':marker, \n",
    "                         'Score':vals}, columns=['est', 'Markers', 'Score'])\n",
    "ests_frame.to_csv('Test_optimal_estimators', sep=',', header=True, index=False)\n",
    "ests_frame"
   ]
  },
  {
   "cell_type": "code",
   "execution_count": 139,
   "metadata": {},
   "outputs": [
    {
     "data": {
      "image/png": "[encoded data removed]",
      "text/plain": [
       "<matplotlib.figure.Figure at 0x7f345678f860>"
      ]
     },
     "metadata": {},
     "output_type": "display_data"
    }
   ],
   "source": [
    "sns.set(font_scale=1.3)\n",
    "sns.set_style('whitegrid')\n",
    "sns.factorplot(x='est', y='Score', data=ests_frame, hue='Markers',\n",
    "              size=6, aspect=1)\n",
    "plt.xlabel('Number of Estimators', fontsize=20)\n",
    "plt.ylabel('Percentage (%)', fontsize=20)\n",
    "plt.ylim(-5, 100);"
   ]
  },
  {
   "cell_type": "code",
   "execution_count": 147,
   "metadata": {},
   "outputs": [
    {
     "data": {
      "image/png": "[encoded data removed]",
      "text/plain": [
       "<matplotlib.figure.Figure at 0x7f3456628748>"
      ]
     },
     "metadata": {},
     "output_type": "display_data"
    }
   ],
   "source": [
    "ests_2 = ests_frame.copy()\n",
    "ests_2['Good']=ests_frame['Good_marker']=np.where(ests_2['Markers']=='D3M19', 'closest', 'neighbor')\n",
    "ests_2\n",
    "\n",
    "sns.set(font_scale=1.3)\n",
    "sns.set_style('whitegrid')\n",
    "sns.factorplot(x='est', y='Score', data=ests_2, hue='Good',\n",
    "              size=6, aspect=1)\n",
    "plt.xlabel('Number of Estimators', fontsize=20)\n",
    "plt.ylabel('Percentage (%)', fontsize=20)\n",
    "plt.ylim(-5, 100);\n"
   ]
  },
  {
   "cell_type": "markdown",
   "metadata": {},
   "source": [
    "Optimization of markers shows that 40-50 estimators are enough for identifying the closest marker the majority of the times"
   ]
  },
  {
   "cell_type": "code",
   "execution_count": 122,
   "metadata": {
    "collapsed": true
   },
   "outputs": [],
   "source": [
    "scores_values = [] # list with alle the scores\n",
    "ranked_markers = []\n",
    "first_rank = []\n",
    "reps=100\n",
    "\n",
    "for i in range(1000):\n",
    "    vals = mlQTLs_analysis(X, y, n_estimators=50, random_state = i**2)\n",
    "    scores_values.append(vals)\n",
    "    new_frame = pd.DataFrame({'markers_ID': cross_numeric.columns, 'Vals' :vals})\n",
    "    new_frame2 = new_frame[new_frame['Vals']> 0].sort_values(by='Vals', ascending=False)\n",
    "    ranked_markers.append(new_frame2['markers_ID'].values)\n",
    "    first_rank.append(new_frame2['markers_ID'].values[0])"
   ]
  },
  {
   "cell_type": "code",
   "execution_count": 123,
   "metadata": {},
   "outputs": [
    {
     "data": {
      "image/png": "[encoded data removed]",
      "text/plain": [
       "<matplotlib.figure.Figure at 0x7f8cbf0cab38>"
      ]
     },
     "metadata": {},
     "output_type": "display_data"
    }
   ],
   "source": [
    "# First rank marker\n",
    "first_marker_count = np.unique(first_rank, return_counts=True)\n",
    "first_rank_markers = pd.DataFrame({'Marker':first_marker_count[0],\n",
    "                                   'Perc':(first_marker_count[1]/reps)*100},\n",
    "                                  columns=['Marker', 'Perc'])\n",
    "sns.set_style('whitegrid')\n",
    "sns.barplot(x= 'Marker', y='Perc', data=first_rank_markers)\n",
    "plt.ylabel('Percentage')\n",
    "plt.ylim((0,100))\n",
    "plt.show()"
   ]
  },
  {
   "cell_type": "code",
   "execution_count": 126,
   "metadata": {},
   "outputs": [
    {
     "data": {
      "text/plain": [
       "(array(['D3M19', 'D3M20', 'D3M21'],\n",
       "       dtype='<U5'), array([95,  4,  1]))"
      ]
     },
     "execution_count": 126,
     "metadata": {},
     "output_type": "execute_result"
    }
   ],
   "source": [
    "first_marker_count"
   ]
  },
  {
   "cell_type": "code",
   "execution_count": 42,
   "metadata": {},
   "outputs": [
    {
     "name": "stdout",
     "output_type": "stream",
     "text": [
      "4.39889067991\n",
      "[ 0.  0.  0.  0.]\n",
      "0.0 458.432390829\n"
     ]
    },
    {
     "data": {
      "image/png": "[encoded data removed]",
      "text/plain": [
       "<matplotlib.figure.Figure at 0x7f8cbec3b208>"
      ]
     },
     "metadata": {},
     "output_type": "display_data"
    },
    {
     "data": {
      "image/png": "[encoded data removed]",
      "text/plain": [
       "<matplotlib.figure.Figure at 0x7f8cbef5a8d0>"
      ]
     },
     "metadata": {},
     "output_type": "display_data"
    }
   ],
   "source": [
    "sc_2 = np.array(scores_values)\n",
    "from scipy.stats import variation\n",
    "\n",
    "cv = np.std(sc_2, 0)\n",
    "print(np.mean(cv))\n",
    "print(np.percentile(cv, q=[.25, .5, .75, .95]))\n",
    "print(min(cv), max(cv))\n",
    "sns.distplot(list(cv))\n",
    "plt.show()\n",
    "sns.barplot(list(cv))\n",
    "plt.show()"
   ]
  },
  {
   "cell_type": "code",
   "execution_count": 53,
   "metadata": {},
   "outputs": [
    {
     "name": "stdout",
     "output_type": "stream",
     "text": [
      "3.45930772429\n",
      "[ 0.27844149  0.34572509  0.36405212  0.37058495]\n",
      "0.171729017726 9.94987437107\n"
     ]
    },
    {
     "name": "stderr",
     "output_type": "stream",
     "text": [
      "/usr/local/lib/python3.5/dist-packages/scipy/stats/stats.py:977: RuntimeWarning: invalid value encountered in true_divide\n",
      "  return a.std(axis) / a.mean(axis)\n",
      "/usr/local/lib/python3.5/dist-packages/ipykernel/__main__.py:2: RuntimeWarning: invalid value encountered in greater\n",
      "  from ipykernel import kernelapp as app\n"
     ]
    },
    {
     "data": {
      "image/png": "[encoded data removed]",
      "text/plain": [
       "<matplotlib.figure.Figure at 0x7f8cbea16390>"
      ]
     },
     "metadata": {},
     "output_type": "display_data"
    }
   ],
   "source": [
    "cv = variation(sc_2, 0)\n",
    "mask = cv>0\n",
    "print(np.mean(cv[mask]))\n",
    "print(np.percentile(cv[mask], q=[.25, .5, .75, .95]))\n",
    "print(min(cv[mask]), max(cv[mask]))\n",
    "sns.distplot(list(cv[mask]))\n",
    "plt.show()"
   ]
  },
  {
   "cell_type": "code",
   "execution_count": 28,
   "metadata": {},
   "outputs": [
    {
     "data": {
      "text/plain": [
       "<matplotlib.axes._subplots.AxesSubplot at 0x7f8cbe9b1cf8>"
      ]
     },
     "execution_count": 28,
     "metadata": {},
     "output_type": "execute_result"
    },
    {
     "data": {
      "image/png": "[encoded data removed]",
      "text/plain": [
       "<matplotlib.figure.Figure at 0x7f8cbe9a2208>"
      ]
     },
     "metadata": {},
     "output_type": "display_data"
    }
   ],
   "source": [
    "s = []\n",
    "for i in ranked_markers:\n",
    "    s.append(len(i))\n",
    "sns.distplot(s) "
   ]
  },
  {
   "cell_type": "markdown",
   "metadata": {},
   "source": [
    "The scores distribution follow a lognormal distribution with a small K (a lot of 0).\n",
    "If i use my data the CV =10 in general, 250x higher than when I use (data+1), where the CV is ~0.05 .\n",
    "\n",
    "A similar scenario occurs on simulated gamma distribution with a ~100 time difference\n",
    "\n",
    "I will use a standard deviation then"
   ]
  },
  {
   "cell_type": "markdown",
   "metadata": {
    "collapsed": true
   },
   "source": [
    "## Evaluate timing on single QTLs analysis\n",
    "\n",
    "Evaluate the time based on different numbers of markers\n",
    "\n",
    "R cell for evaluation"
   ]
  },
  {
   "cell_type": "code",
   "execution_count": null,
   "metadata": {
    "collapsed": true
   },
   "outputs": [],
   "source": [
    "%%R\n",
    "library(qtl)\n",
    "# simulation of multiple files with increased number of markers for timing purposes\n",
    "s = c(1,5,10,50,100,500,1000)\n",
    "for (i in s){\n",
    "    L=c(130, 95, 100, 120, 140)\n",
    "    set.seed(121)\n",
    "    mapD=sim.map(L, L, eq.spacing=F, include.x=F)\n",
    "    plot(mapD)\n",
    "    bc_model = rbind(c(3, 25, 1))\n",
    "    BC_cross = sim.cross(mapD, n.ind=250, type='bc', model = bc_model)\n",
    "    p1 = subset(BC_cross$pheno[,1], BC_cross$qtlgeno[,1]==1)\n",
    "    p2 = subset(BC_cross$pheno[,1], BC_cross$qtlgeno[,1]==2)\n",
    "    boxplot(p1, p2, names=c('Hom', 'Het'), main='Phenotype distribution by QTL')\n",
    "    print(summary(BC_cross))\n",
    "    write.cross(BC_cross, format='csv', filestem=paste('n_mark_sims', )"
   ]
  }
 ],
 "metadata": {
  "kernelspec": {
   "display_name": "Python 3",
   "language": "python",
   "name": "python3"
  },
  "language_info": {
   "codemirror_mode": {
    "name": "ipython",
    "version": 3
   },
   "file_extension": ".py",
   "mimetype": "text/x-python",
   "name": "python",
   "nbconvert_exporter": "python",
   "pygments_lexer": "ipython3",
   "version": "3.5.2"
  }
 },
 "nbformat": 4,
 "nbformat_minor": 2
}
